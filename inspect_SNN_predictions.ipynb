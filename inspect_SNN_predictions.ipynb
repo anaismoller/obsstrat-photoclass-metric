{
 "cells": [
  {
   "cell_type": "markdown",
   "metadata": {},
   "source": [
    "# Inspect SNN predictions"
   ]
  },
  {
   "cell_type": "code",
   "execution_count": 95,
   "metadata": {},
   "outputs": [],
   "source": [
    "import pandas as pd"
   ]
  },
  {
   "cell_type": "code",
   "execution_count": 96,
   "metadata": {},
   "outputs": [],
   "source": [
    "preds = pd.read_pickle('snndump/models/vanilla_S_0_CLF_2_R_none_photometry_DF_1.0_N_global_lstm_32x2_0.05_128_True_mean_C/PRED_vanilla_S_0_CLF_2_R_none_photometry_DF_1.0_N_global_lstm_32x2_0.05_128_True_mean_C.pickle')"
   ]
  },
  {
   "cell_type": "markdown",
   "metadata": {},
   "source": [
    "Structure of preds file: \n",
    "- all_class0: complete light-curve classification, probability of being a SNe Ia. \n",
    "- all_class1: idem but fore not Ia probability\n",
    "- PEAKMJD-2_class0: using only photometric points two days before maximum light classification, probability of being a SNe Ia. idem for \"-1\",\"\",\"+1\",\"+2\" keys.\n",
    "- target: true class used in SNN, as default 0=Ia\n",
    "- all_random/shuffle/sin/reverse: out-of-distribution automatic tests. Mostly to be ignored."
   ]
  },
  {
   "cell_type": "code",
   "execution_count": 97,
   "metadata": {},
   "outputs": [
    {
     "data": {
      "text/plain": [
       "Index(['all_class0', 'all_class1', 'PEAKMJD-2_class0', 'PEAKMJD-2_class1',\n",
       "       'PEAKMJD-1_class0', 'PEAKMJD-1_class1', 'PEAKMJD_class0',\n",
       "       'PEAKMJD_class1', 'PEAKMJD+1_class0', 'PEAKMJD+1_class1',\n",
       "       'PEAKMJD+2_class0', 'PEAKMJD+2_class1', 'all_random_class0',\n",
       "       'all_random_class1', 'all_reverse_class0', 'all_reverse_class1',\n",
       "       'all_shuffle_class0', 'all_shuffle_class1', 'all_sin_class0',\n",
       "       'all_sin_class1', 'target', 'SNID'],\n",
       "      dtype='object')"
      ]
     },
     "execution_count": 97,
     "metadata": {},
     "output_type": "execute_result"
    }
   ],
   "source": [
    "preds.keys()"
   ]
  },
  {
   "cell_type": "code",
   "execution_count": 98,
   "metadata": {},
   "outputs": [],
   "source": [
    "# Summary stats (given in terminal but verification)"
   ]
  },
  {
   "cell_type": "code",
   "execution_count": 99,
   "metadata": {},
   "outputs": [],
   "source": [
    "# preds[[k for k in preds.keys() if \"all_class\" in k]].idxmax(axis=1)"
   ]
  },
  {
   "cell_type": "code",
   "execution_count": 100,
   "metadata": {},
   "outputs": [],
   "source": [
    "from sklearn import metrics\n",
    "import numpy as np\n",
    "for time_key in [\"PEAKMJD-2\",\"PEAKMJD\",\"PEAKMJD+2\",\"all\"]:\n",
    "    preds[f\"{time_key}_predicted_target\"] = (\n",
    "            preds[[k for k in preds.keys() if f\"{time_key}_class\" in k]]\n",
    "            .idxmax(axis=1)\n",
    "            .str.strip(f\"{time_key}_class\")\n",
    "        )"
   ]
  },
  {
   "cell_type": "markdown",
   "metadata": {},
   "source": [
    "Notes:\n",
    "- if predicted_target is NaN means there is no photometry at that time constrain to get classification\n",
    "- accuracy will give a warning when there is only type Ia as true tag"
   ]
  },
  {
   "cell_type": "code",
   "execution_count": 105,
   "metadata": {},
   "outputs": [
    {
     "name": "stderr",
     "output_type": "stream",
     "text": [
      "/Users/anaismoller/miniconda3/lib/python3.6/site-packages/sklearn/metrics/classification.py:1437: UserWarning: y_pred contains classes not in y_true\n",
      "  warnings.warn('y_pred contains classes not in y_true')\n"
     ]
    }
   ],
   "source": [
    "accuracy_dic = {}\n",
    "for time_key in [\"PEAKMJD-2\",\"PEAKMJD\",\"PEAKMJD+2\",\"all\"]:\n",
    "    tmp = preds[preds[f\"{time_key}_predicted_target\"].notna()]\n",
    "    accuracy_dic[time_key] = metrics.balanced_accuracy_score(tmp[\"target\"].astype(int), tmp[f\"{time_key}_predicted_target\"].astype(int))"
   ]
  },
  {
   "cell_type": "code",
   "execution_count": 106,
   "metadata": {},
   "outputs": [
    {
     "data": {
      "text/plain": [
       "{'PEAKMJD': 0.9206896551724137,\n",
       " 'PEAKMJD+2': 0.9216300940438872,\n",
       " 'PEAKMJD-2': 0.9142857142857143,\n",
       " 'all': 0.715531561461794}"
      ]
     },
     "execution_count": 106,
     "metadata": {},
     "output_type": "execute_result"
    }
   ],
   "source": [
    "accuracy_dic"
   ]
  },
  {
   "cell_type": "markdown",
   "metadata": {},
   "source": [
    "Why early classification has better accuracy than late? probably due to the training set and also biased sampling for curves with points before max"
   ]
  },
  {
   "cell_type": "markdown",
   "metadata": {},
   "source": [
    "Other useful metrics conputed only for full light-curve classification"
   ]
  },
  {
   "cell_type": "code",
   "execution_count": 107,
   "metadata": {},
   "outputs": [
    {
     "name": "stdout",
     "output_type": "stream",
     "text": [
      "Classification efficiency 71.55\n"
     ]
    }
   ],
   "source": [
    "SNe_Ia = preds[preds[\"target\"].astype(int) == 0]\n",
    "SNe_CC = preds[preds[\"target\"].astype(int) != 0]\n",
    "TP = len(SNe_Ia[SNe_Ia[\"all_predicted_target\"].astype(int) == 0])\n",
    "FP = len(SNe_CC[SNe_CC[\"all_predicted_target\"].astype(int) == 0])\n",
    "\n",
    "P = len(SNe_Ia)\n",
    "N = len(SNe_CC)\n",
    "\n",
    "efficiency = round(100.0 * TP / P, 2) if P > 0 else 0\n",
    "print('Classification efficiency',efficiency)"
   ]
  },
  {
   "cell_type": "markdown",
   "metadata": {},
   "source": [
    "# Understanding correlations with SNe Ia properties\n",
    "to check correlations with c,x1 we need first to load the simualtion params"
   ]
  },
  {
   "cell_type": "code",
   "execution_count": 108,
   "metadata": {},
   "outputs": [],
   "source": [
    "head = pd.read_csv(\"./test_sim_sncosmo/DAT_HEAD.csv\")"
   ]
  },
  {
   "cell_type": "code",
   "execution_count": 109,
   "metadata": {},
   "outputs": [],
   "source": [
    "preds['SNID']=preds['SNID'].astype(int) \n",
    "merged = pd.merge(preds,head,on='SNID')"
   ]
  },
  {
   "cell_type": "markdown",
   "metadata": {},
   "source": [
    "this merged DataFrame contains both simulated properties and predictions by SNN"
   ]
  },
  {
   "cell_type": "code",
   "execution_count": 110,
   "metadata": {},
   "outputs": [
    {
     "data": {
      "text/plain": [
       "Index(['all_class0', 'all_class1', 'PEAKMJD-2_class0', 'PEAKMJD-2_class1',\n",
       "       'PEAKMJD-1_class0', 'PEAKMJD-1_class1', 'PEAKMJD_class0',\n",
       "       'PEAKMJD_class1', 'PEAKMJD+1_class0', 'PEAKMJD+1_class1',\n",
       "       'PEAKMJD+2_class0', 'PEAKMJD+2_class1', 'all_random_class0',\n",
       "       'all_random_class1', 'all_reverse_class0', 'all_reverse_class1',\n",
       "       'all_shuffle_class0', 'all_shuffle_class1', 'all_sin_class0',\n",
       "       'all_sin_class1', 'target', 'SNID', 'PEAKMJD-2_predicted_target',\n",
       "       'PEAKMJD_predicted_target', 'PEAKMJD+2_predicted_target',\n",
       "       'all_predicted_target', 'Unnamed: 0', 'SIM_REDSHIFT_CMB', 'RA', 'DECL',\n",
       "       'PEAKMJD', 'SIM_SALT2x1', 'SIM_SALT2c', 'SIM_PEAKMAG_b', 'SNTYPE'],\n",
       "      dtype='object')"
      ]
     },
     "execution_count": 110,
     "metadata": {},
     "output_type": "execute_result"
    }
   ],
   "source": [
    "merged.keys()"
   ]
  },
  {
   "cell_type": "markdown",
   "metadata": {},
   "source": [
    "# Useful functions"
   ]
  },
  {
   "cell_type": "code",
   "execution_count": 111,
   "metadata": {},
   "outputs": [],
   "source": [
    "def do_binning(df, var, bins, i):\n",
    "    binned = df[(df[var] >= bins[i]) & (df[var] < bins[i + 1])]\n",
    "    return binned"
   ]
  },
  {
   "cell_type": "code",
   "execution_count": 112,
   "metadata": {},
   "outputs": [],
   "source": [
    "def bin_df(df,var=\"SIM_SALT2c\",step=0.2):\n",
    "    # Binning df by var with step \n",
    "    bin_dic = {}\n",
    "    bin_dic[\"step\"] = step\n",
    "    bin_dic[\"min_var\"] = df[var].min()\n",
    "    bin_dic[\"max_var\"] = df[var].max()\n",
    "    bins = np.arange(bin_dic[\"min_var\"], bin_dic[\"max_var\"], bin_dic[\"step\"])\n",
    "    half_bin_step = bin_dic[\"step\"] / 2.0\n",
    "    bin_dic[\"bins_plot\"] = np.arange(\n",
    "        bin_dic[\"min_var\"] + half_bin_step, bin_dic[\"max_var\"] - half_bin_step, bin_dic[\"step\"]\n",
    "    )\n",
    "\n",
    "    binned = {}\n",
    "    for i, z_bin in enumerate(bins[:-1]):\n",
    "        binned[round(bins[i]+half_bin_step,1)] = do_binning(df, var, bins, i)\n",
    "\n",
    "    return binned"
   ]
  },
  {
   "cell_type": "code",
   "execution_count": 114,
   "metadata": {},
   "outputs": [],
   "source": [
    "def get_accuracy(df,var_pred=\"all_predicted_target\"):\n",
    "    sel = df[df[var_pred].notna()] # in case there are no preds\n",
    "    return metrics.balanced_accuracy_score(sel[\"target\"].astype(int), sel[var_pred].astype(int))"
   ]
  },
  {
   "cell_type": "code",
   "execution_count": 89,
   "metadata": {},
   "outputs": [],
   "source": [
    "import matplotlib.pyplot as plt"
   ]
  },
  {
   "cell_type": "markdown",
   "metadata": {},
   "source": [
    "# complete classification"
   ]
  },
  {
   "cell_type": "code",
   "execution_count": 144,
   "metadata": {},
   "outputs": [
    {
     "name": "stderr",
     "output_type": "stream",
     "text": [
      "/Users/anaismoller/miniconda3/lib/python3.6/site-packages/sklearn/metrics/classification.py:1437: UserWarning: y_pred contains classes not in y_true\n",
      "  warnings.warn('y_pred contains classes not in y_true')\n"
     ]
    },
    {
     "data": {
      "image/png": "[encoded data removed]",
      "text/plain": [
       "<Figure size 432x288 with 1 Axes>"
      ]
     },
     "metadata": {},
     "output_type": "display_data"
    },
    {
     "data": {
      "image/png": "[encoded data removed]",
      "text/plain": [
       "<Figure size 432x288 with 1 Axes>"
      ]
     },
     "metadata": {},
     "output_type": "display_data"
    },
    {
     "data": {
      "image/png": "[encoded data removed]",
      "text/plain": [
       "<Figure size 432x288 with 1 Axes>"
      ]
     },
     "metadata": {},
     "output_type": "display_data"
    },
    {
     "data": {
      "image/png": "[encoded data removed]",
      "text/plain": [
       "<Figure size 432x288 with 1 Axes>"
      ]
     },
     "metadata": {},
     "output_type": "display_data"
    }
   ],
   "source": [
    "list_to_plot = [\"SIM_SALT2c\",\"SIM_SALT2x1\",\"SIM_PEAKMAG_b\",'SIM_REDSHIFT_CMB']\n",
    "step_to_plot_dic = {\"SIM_SALT2c\":0.1,\"SIM_SALT2x1\":1,\"SIM_PEAKMAG_b\":0.5,'SIM_REDSHIFT_CMB':0.1}\n",
    "for var_to_plot in list_to_plot:\n",
    "    binned_c = bin_df(merged,var=var_to_plot,step=step_to_plot_dic[var_to_plot])\n",
    "    binned_accuracy = {}\n",
    "    for k in binned_c.keys():\n",
    "        binned_accuracy[k] = get_accuracy(binned_c[k],var_pred=\"all_predicted_target\")\n",
    "    plt.figure()\n",
    "    plt.scatter(list(binned_accuracy.keys()),list(binned_accuracy.values()))\n",
    "    plt.xlabel(var_to_plot)\n",
    "    plt.ylabel('accuracy complete classification')"
   ]
  },
  {
   "cell_type": "markdown",
   "metadata": {},
   "source": [
    "# before max"
   ]
  },
  {
   "cell_type": "code",
   "execution_count": 146,
   "metadata": {},
   "outputs": [
    {
     "name": "stderr",
     "output_type": "stream",
     "text": [
      "/Users/anaismoller/miniconda3/lib/python3.6/site-packages/sklearn/metrics/classification.py:1437: UserWarning: y_pred contains classes not in y_true\n",
      "  warnings.warn('y_pred contains classes not in y_true')\n",
      "/Users/anaismoller/miniconda3/lib/python3.6/site-packages/numpy/core/fromnumeric.py:3335: RuntimeWarning: Mean of empty slice.\n",
      "  out=out, **kwargs)\n",
      "/Users/anaismoller/miniconda3/lib/python3.6/site-packages/numpy/core/_methods.py:161: RuntimeWarning: invalid value encountered in double_scalars\n",
      "  ret = ret.dtype.type(ret / rcount)\n"
     ]
    },
    {
     "data": {
      "image/png": "[encoded data removed]",
      "text/plain": [
       "<Figure size 432x288 with 1 Axes>"
      ]
     },
     "metadata": {},
     "output_type": "display_data"
    },
    {
     "data": {
      "image/png": "[encoded data removed]",
      "text/plain": [
       "<Figure size 432x288 with 1 Axes>"
      ]
     },
     "metadata": {},
     "output_type": "display_data"
    },
    {
     "data": {
      "image/png": "[encoded data removed]",
      "text/plain": [
       "<Figure size 432x288 with 1 Axes>"
      ]
     },
     "metadata": {},
     "output_type": "display_data"
    },
    {
     "data": {
      "image/png": "[encoded data removed]",
      "text/plain": [
       "<Figure size 432x288 with 1 Axes>"
      ]
     },
     "metadata": {},
     "output_type": "display_data"
    }
   ],
   "source": [
    "list_to_plot = [\"SIM_SALT2c\",\"SIM_SALT2x1\",\"SIM_PEAKMAG_b\",'SIM_REDSHIFT_CMB']\n",
    "step_to_plot_dic = {\"SIM_SALT2c\":0.1,\"SIM_SALT2x1\":1,\"SIM_PEAKMAG_b\":0.5,'SIM_REDSHIFT_CMB':0.1}\n",
    "for var_to_plot in list_to_plot:\n",
    "    binned_c = bin_df(merged,var=var_to_plot,step=step_to_plot_dic[var_to_plot])\n",
    "    binned_accuracy = {}\n",
    "    for k in binned_c.keys():\n",
    "        binned_accuracy[k] = get_accuracy(binned_c[k],var_pred=\"PEAKMJD-2_predicted_target\")\n",
    "    plt.figure()\n",
    "    plt.scatter(list(binned_accuracy.keys()),list(binned_accuracy.values()))\n",
    "    plt.xlabel(var_to_plot)\n",
    "    plt.ylabel('accuracy PEAKMJD-2 classification')"
   ]
  }
 ],
 "metadata": {
  "kernelspec": {
   "display_name": "Python 3",
   "language": "python",
   "name": "python3"
  },
  "language_info": {
   "codemirror_mode": {
    "name": "ipython",
    "version": 3
   },
   "file_extension": ".py",
   "mimetype": "text/x-python",
   "name": "python",
   "nbconvert_exporter": "python",
   "pygments_lexer": "ipython3",
   "version": "3.6.8"
  }
 },
 "nbformat": 4,
 "nbformat_minor": 2
}
